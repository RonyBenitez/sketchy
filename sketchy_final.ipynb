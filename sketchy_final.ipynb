{
  "nbformat": 4,
  "nbformat_minor": 0,
  "metadata": {
    "colab": {
      "name": "sketchy_final.ipynb",
      "version": "0.3.2",
      "provenance": [],
      "collapsed_sections": []
    },
    "kernelspec": {
      "name": "python3",
      "display_name": "Python 3"
    },
    "accelerator": "GPU"
  },
  "cells": [
    {
      "cell_type": "code",
      "metadata": {
        "id": "sLQgiPr-367t",
        "colab_type": "code",
        "colab": {}
      },
      "source": [
        ""
      ],
      "execution_count": 0,
      "outputs": []
    },
    {
      "cell_type": "code",
      "metadata": {
        "id": "ffX2hUpkctwq",
        "colab_type": "code",
        "colab": {}
      },
      "source": [
        "!rm -r \"/content/lfw\"\n",
        "!wget \"http://vis-www.cs.umass.edu/lfw/lfw.tgz\"\n",
        "!tar xvzf /content/lfw.tgz\n"
      ],
      "execution_count": 0,
      "outputs": []
    },
    {
      "cell_type": "code",
      "metadata": {
        "id": "zo60b_JYi0nz",
        "colab_type": "code",
        "colab": {}
      },
      "source": [
        ""
      ],
      "execution_count": 0,
      "outputs": []
    },
    {
      "cell_type": "code",
      "metadata": {
        "id": "97p-C-mcWSVY",
        "colab_type": "code",
        "colab": {}
      },
      "source": [
        "#@title Este bloque requiere del archivo tools.zip en la raiz de Colab\n",
        "photos=\"/content/images\"\n",
        "original=\"/content/images/original\"\n",
        "cut=\"/content/images/cut\"\n",
        "combined=\"/content/images/combined\"\n",
        "!mkdir \"/content/images\"\n",
        "!mkdir \"/content/images/original\"\n",
        "!mkdir \"/content/images/cut\"\n",
        "\n",
        "!mkdir \"/content/images/combined\"\n",
        "!mkdir \"/content/images/tools\"\n",
        "\n",
        "#!unzip \"/content/drive/My Drive/neural/deep-learning-face-detection.zip\" -d \"/content/images/tools\"\n",
        "#!unzip \"/content/drive/My Drive/neural/neural_feature_follower.zip\" -d \"/content/images/tools\"\n",
        "\n",
        "\n",
        "\n",
        "!unzip \"/content/tools.zip\" -d \"/content/images/tools\"\n",
        "#!unzip \"/content/drive/My Drive/neural_feature_follower.zip\" -d \"/content/images/tools\"\n",
        "#!unzip \"/content/dataset.zip\" -d \"/content/images/original\""
      ],
      "execution_count": 0,
      "outputs": []
    },
    {
      "cell_type": "code",
      "metadata": {
        "id": "f5katu8IRnPd",
        "colab_type": "code",
        "colab": {}
      },
      "source": [
        ""
      ],
      "execution_count": 0,
      "outputs": []
    },
    {
      "cell_type": "code",
      "metadata": {
        "id": "mGuIspEjiDiN",
        "colab_type": "code",
        "colab": {}
      },
      "source": [
        "import os\n",
        "import sys\n",
        "from django.http import request\n",
        "from os import rename\n",
        "import requests\n",
        "import shutil\n",
        "maleFolder = \"/content/male\"\n",
        "!rm -r \"/content/male\"\n",
        "!rm -r \"/content/female\"\n",
        "femaleFolder = \"/content/female\"\n",
        "!mkdir \"/content/female\"\n",
        "!mkdir \"/content/male\"\n",
        "\n",
        "\n",
        "maxf=2000\n",
        "\n",
        "\n",
        "def get_dataset():\n",
        "    fileList = []\n",
        "    fileSize = 0\n",
        "    folderCount = 0\n",
        "    rootdir = \"/content/lfw\"\n",
        "    \n",
        "    count = 0\n",
        "    tmp = \"\"\n",
        "\n",
        "    for root, subFolders, files in os.walk(rootdir):\n",
        "        folderCount += len(subFolders)\n",
        "        for file in files:\n",
        "            f = os.path.join(root,file)\n",
        "            fileSize = fileSize + os.path.getsize(f)\n",
        "            fileSplit = file.split(\"_\")\n",
        "            fileList.append(f)\n",
        "            count += 1\n",
        "\n",
        "            if count == 1:\n",
        "                result = requests.get(\"http://api.genderize.io?name=%s\" % fileSplit[0])\n",
        "                result = result.json()\n",
        "                tmp = fileSplit[0]\n",
        "            elif tmp != fileSplit[0]:\n",
        "                result = requests.get(\"http://api.genderize.io?name=%s\" % fileSplit[0])\n",
        "                result = result.json()\n",
        "                tmp = fileSplit[0]\n",
        "            else:\n",
        "                tmp = fileSplit[0]\n",
        "\n",
        "            \n",
        "            if float(result['probability']) > 0.9:\n",
        "              if result['gender'] == 'male':\n",
        "                shutil.copyfile(f,maleFolder+\"/\"+str(count)+\".jpg\")\n",
        "              elif result['gender'] == 'female':\n",
        "                shutil.copyfile(f,femaleFolder+\"/\"+str(count)+\".jpg\")\n",
        "            print(\"Copied: \"+str(count))\n",
        "            if(count==maxf):\n",
        "              break\n",
        "            \n",
        "\n",
        "\n",
        "\n",
        "get_dataset()"
      ],
      "execution_count": 0,
      "outputs": []
    },
    {
      "cell_type": "code",
      "metadata": {
        "id": "Kdw8sgzJdla_",
        "colab_type": "code",
        "colab": {}
      },
      "source": [
        "import os\n",
        "import glob\n",
        "from shutil import copyfile\n",
        "!rm -r \"/content/images/original\"\n",
        "!mkdir \"/content/images/original\"\n",
        "i=0\n",
        "for filename in glob.glob('/content/male/*.jpg'):\n",
        "    i+=1\n",
        "    print(i)\n",
        "    copyfile(filename,original+\"/\"+str(i)+\".jpg\")"
      ],
      "execution_count": 0,
      "outputs": []
    },
    {
      "cell_type": "code",
      "metadata": {
        "id": "kZsSh16-TQkA",
        "colab_type": "code",
        "colab": {}
      },
      "source": [
        "import numpy as np\n",
        "import cv2\n",
        "import matplotlib.pyplot as plt\n",
        "import glob\n",
        "\n",
        "\n",
        "path_model=\"/content/images/tools/deploy.prototxt.txt\"\n",
        "path_weigths=\"/content/images/tools/res10_300x300_ssd_iter_140000.caffemodel\"\n",
        "\n",
        "\n",
        "\n",
        "net = cv2.dnn.readNetFromCaffe(path_model, path_weigths)\n",
        "path_image=original+\"/\"\n",
        "\n",
        "\n",
        "def get_face(path):\n",
        "  image = cv2.imread(path)\n",
        "  (h, w) = image.shape[:2]\n",
        "  blob = cv2.dnn.blobFromImage(cv2.resize(image, (300, 300)), 1.0,(300, 300), (104.0, 177.0, 123.0))\n",
        "  net.setInput(blob)\n",
        "  detections = net.forward()\n",
        "  ti_face=False\n",
        "  for i in range(0, detections.shape[2]):\n",
        "    confidence = detections[0, 0, i, 2]\n",
        "    if confidence > 0.5:\n",
        "      ti_face=True\n",
        "      box = detections[0, 0, i, 3:7] * np.array([w, h, w, h])\n",
        "      (startX, startY, endX, endY) = box.astype(\"int\")\n",
        "      distanceX=abs(endX-startX)\n",
        "      distanceY=abs(endY-startY)\n",
        "      startY-=distanceY*0.2\n",
        "      endY+=distanceY*0.1\n",
        "      endX+=distanceX*0.5\n",
        "      startX-=distanceX*0.5\n",
        "      startX=int(max(startX,0))\n",
        "      startY=int(max(startY,0))\n",
        "      endX=int(min(endX,w))\n",
        "      endY=int(min(endY,h))\n",
        "      print(startX,endX,startY,endY)\n",
        "      text = \"{:.2f}%\".format(confidence * 100)\n",
        "      y = startY - 10 if startY - 10 > 10 else startY + 10\n",
        "      image=image[startY:endY,startX:endX,:]\n",
        "    if (i > -1) and confidence>0.5:\n",
        "      break  \n",
        "  return image,ti_face  \n",
        "\n",
        "\n",
        "num_p=1000  \n",
        "!rm -r  \"/content/images/cut\" \n",
        "!mkdir \"/content/images/cut\"  \n",
        "if(True):\n",
        "  for i,filename in enumerate(glob.glob(path_image+\"*.jpg\")):\n",
        "    path=filename\n",
        "    print(\"Processing image \"+path)\n",
        "    image,ret=get_face(path)\n",
        "    if(i==num_p):\n",
        "      break\n",
        "    if(ret):\n",
        "      cv2.imwrite(cut+\"/\"+str(i)+\".jpg\",image)\n",
        "      print(\"Face Generated\")\n",
        "    else:\n",
        "      print(\"Error generating image\")\n",
        "\n"
      ],
      "execution_count": 0,
      "outputs": []
    },
    {
      "cell_type": "code",
      "metadata": {
        "id": "4R-VabWAdm3p",
        "colab_type": "code",
        "colab": {}
      },
      "source": [
        "import cv2\n",
        "def get_skecth(img_rgb):\n",
        "    img_rgb=cv2.resize(img_rgb,(500,500))\n",
        "    img_gray = 255-cv2.cvtColor(img_rgb, cv2.COLOR_BGR2GRAY)\n",
        "    img_blur = cv2.GaussianBlur(img_gray, (101,101),0,0)\n",
        "    img_blend = cv2.divide(img_blur, img_gray, scale=256)\n",
        "    kernel1 = np.ones((3,3), np.uint8)       \n",
        "    img_blur = cv2.erode(img_blend, kernel1, iterations=10)\n",
        "    can=cv2.Canny(img_blend,50,100)\n",
        "    im1=cv2.bitwise_and(255*np.ones((500,500,3)),255*np.ones((500,500,3)),mask=can)\n",
        "    imt=cv2.dilate(im1,np.ones((7,7), np.uint8))\n",
        "    a,val=paint(img_rgb,255-imt)\n",
        "    \n",
        "    \n",
        "    \n",
        "    return a,val\n",
        "  \n",
        "  \n",
        "  \n",
        "  \n",
        "  \n",
        "import dlib\n",
        "import numpy as np\n",
        "import cv2\n",
        "import matplotlib.pyplot as plt\n",
        "import tensorflow as tf\n",
        "\n",
        "detector = dlib.get_frontal_face_detector()\n",
        "predictor = dlib.shape_predictor(\"/content/images/tools/neural_feature_follower/NN3W.dat\")\n",
        "def paint(im,dest):\n",
        "  image=im\n",
        "  image = cv2.resize(image,(500,500))\n",
        "  dest=dest\n",
        "  image2=image[:,:,:].copy()\n",
        "  hsv=cv2.cvtColor(image,cv2.COLOR_BGR2HSV)\n",
        "  gray = cv2.cvtColor(image, cv2.COLOR_BGR2GRAY)\n",
        "  val=False\n",
        "  rects = detector(gray, 1)\n",
        "  for (i, rect) in enumerate(rects):\n",
        "        val=True\n",
        "        if(i>0):\n",
        "          break  \n",
        "        features = predictor(gray, rect)\n",
        "        face=[]\n",
        "        face=[]\n",
        "        eye1=[]\n",
        "        eye2=[]\n",
        "        eye1u=[]\n",
        "        eye2u=[]\n",
        "        nose=[]\n",
        "        mouth=[]\n",
        "        mouth2=[]\n",
        "        factor=0.4\n",
        "        distance=(rect.top()-rect.bottom())*factor\n",
        "        factor2=0.2\n",
        "        distance2=(rect.right()-rect.left())*factor2\n",
        "        \n",
        "        for b in range(68):\n",
        "            p1=[features.part(b).x,features.part(b).y]\n",
        "            if(b<17):\n",
        "              face.append(p1)\n",
        "            if(b>=22 and b<=26):\n",
        "              eye1u.append(p1) \n",
        "            if(b>=17 and b<=21):\n",
        "              eye2u.append(p1)   \n",
        "            if(b>=36 and b<=41):\n",
        "              eye1.append(p1)\n",
        "            if(b>=27 and b<=35):\n",
        "              nose.append(p1)  \n",
        "            if(b>=42 and b<=47):\n",
        "              eye2.append(p1)\n",
        "            if(b>=48 and b<=59):\n",
        "              mouth.append(p1) \n",
        "            if(b>=60 and b<=68):\n",
        "              mouth2.append(p1)\n",
        "              \n",
        "            #cv.line(image,tuple(p1),tuple(p2),(0,255,0),3)\n",
        "            #cv.circle(image, (features.part(b).x,features.part(b).y), 6, (0, 255, 0), -1)  \n",
        "         \n",
        "        \n",
        "        cv2.polylines(dest,[np.array(face)],False,(0,0,255),6)\n",
        "        cv2.drawContours(dest,[np.array(eye1)],-1,(0,255,0),-1)\n",
        "        cv2.drawContours(dest,[np.array(eye2)],-1,(0,255,0),-1)\n",
        "        \n",
        "        \n",
        "        #cv2.drawContours(dest,[np.array(eye1)],-1,(255,0,0),6)\n",
        "        #cv2.drawContours(dest,[np.array(eye2)],-1,(255,0,255),6)\n",
        "        \n",
        "        \n",
        "        cv2.drawContours(dest,[np.array(nose)],-1,(255,0,0),-1)\n",
        "        cv2.drawContours(dest,[np.array(mouth)],-1,(255,0,255),-1)\n",
        "        cv2.drawContours(dest,[np.array(eye1u)],-1,(0,255,255),-1)\n",
        "        cv2.drawContours(dest,[np.array(eye2u)],-1,(0,255,255),-1)\n",
        "        cv2.drawContours(dest,[np.array(mouth2)],-1,(0,0,0),-1)\n",
        "             \n",
        "        \n",
        "        return dest,val\n",
        "\n",
        "  \n",
        "  \n",
        "  \n",
        "  \n",
        "imga=cv2.imread(\"/content/images/cut/112.jpg\")\n",
        "\n",
        "d,val=get_skecth(imga)\n",
        "plt.imshow(d)\n",
        "\n",
        "\n",
        "\n",
        "  \n"
      ],
      "execution_count": 0,
      "outputs": []
    },
    {
      "cell_type": "code",
      "metadata": {
        "id": "X1SaaP6qdy3E",
        "colab_type": "code",
        "colab": {}
      },
      "source": [
        "!rm -r \"/content/images/combined\"\n",
        "!mkdir \"/content/images/combined\"\n",
        "!rm -r \"/content/images/combinedval\"\n",
        "!mkdir \"/content/images/combinedval\"\n",
        "valf=\"/content/images/combinedval\"\n",
        "import glob\n",
        "import cv2\n",
        "path=cut\n",
        "print(cut)\n",
        "size=(256,256)\n",
        "i=0\n",
        "for filename in glob.glob(path+\"/*.jpg\"):\n",
        "  if(i>1000):\n",
        "    break\n",
        "  img=cv2.imread(filename)\n",
        "  try:\n",
        "    print(filename)\n",
        "    im1,val=get_skecth(img)\n",
        "    print(im1.shape)\n",
        "    if(val and i<700):\n",
        "      cv2.imwrite(combined+\"/\"+str(i)+\".jpg\",np.concatenate((cv2.resize(img,size),cv2.resize(im1,size)),axis=1))\n",
        "      i+=1\n",
        "      print(\">>Train images: \"+str(i))\n",
        "    if(val and i>=700):\n",
        "      cv2.imwrite(valf+\"/\"+str(i-700)+\".jpg\",np.concatenate((cv2.resize(img,size),cv2.resize(im1,size)),axis=1))\n",
        "      i+=1\n",
        "      print(\">>Val images: \"+str(i-700))\n",
        "  except:\n",
        "      print(\">>Error procesing\")\n",
        "  \n",
        "  "
      ],
      "execution_count": 0,
      "outputs": []
    },
    {
      "cell_type": "code",
      "metadata": {
        "id": "uBikGMGXlG5I",
        "colab_type": "code",
        "colab": {}
      },
      "source": [
        "#@title Aqui comienza el Bloque de training, el codigo es casi completamente basado en la implementacion pix2pix original\n",
        " "
      ],
      "execution_count": 0,
      "outputs": []
    },
    {
      "cell_type": "code",
      "metadata": {
        "colab_type": "code",
        "id": "YfIk2es3hJEd",
        "colab": {}
      },
      "source": [
        "from __future__ import absolute_import, division, print_function, unicode_literals\n",
        "\n",
        "try:\n",
        "  !pip install tensorflow-gpu==2.0.0-rc0\n",
        "except Exception:\n",
        "  pass\n",
        "import tensorflow as tf\n",
        "\n",
        "import os\n",
        "import time\n",
        "import matplotlib.pyplot as plt\n",
        "from IPython.display import clear_output"
      ],
      "execution_count": 0,
      "outputs": []
    },
    {
      "cell_type": "code",
      "metadata": {
        "colab_type": "code",
        "id": "2CbTEt448b4R",
        "colab": {}
      },
      "source": [
        "BUFFER_SIZE = 800\n",
        "BATCH_SIZE = 8\n",
        "IMG_WIDTH = 256\n",
        "IMG_HEIGHT = 256\n",
        "PATH=\"/content/images/\""
      ],
      "execution_count": 0,
      "outputs": []
    },
    {
      "cell_type": "code",
      "metadata": {
        "colab_type": "code",
        "id": "aO9ZAGH5K3SY",
        "colab": {}
      },
      "source": [
        "def load(image_file):\n",
        "  image = tf.io.read_file(image_file)\n",
        "  image = tf.image.decode_jpeg(image)\n",
        "\n",
        "  w = tf.shape(image)[1]\n",
        "\n",
        "  w = w // 2\n",
        "  real_image = image[:, :w, :]\n",
        "  input_image = image[:, w:, :]\n",
        "\n",
        "  input_image = tf.cast(input_image, tf.float32)\n",
        "  real_image = tf.cast(real_image, tf.float32)\n",
        "\n",
        "  return input_image, real_image"
      ],
      "execution_count": 0,
      "outputs": []
    },
    {
      "cell_type": "code",
      "metadata": {
        "colab_type": "code",
        "id": "4OLHMpsQ5aOv",
        "colab": {}
      },
      "source": [
        "inp, re = load(PATH+'combined/103.jpg')\n",
        "\n",
        "plt.figure()\n",
        "plt.imshow(inp/255.0)\n",
        "plt.figure()\n",
        "plt.imshow(re/255.0)"
      ],
      "execution_count": 0,
      "outputs": []
    },
    {
      "cell_type": "code",
      "metadata": {
        "colab_type": "code",
        "id": "rwwYQpu9FzDu",
        "colab": {}
      },
      "source": [
        "def resize(input_image, real_image, height, width):\n",
        "  input_image = tf.image.resize(input_image, [height, width],\n",
        "                                method=tf.image.ResizeMethod.NEAREST_NEIGHBOR)\n",
        "  real_image = tf.image.resize(real_image, [height, width],\n",
        "                               method=tf.image.ResizeMethod.NEAREST_NEIGHBOR)\n",
        "\n",
        "  return input_image, real_image"
      ],
      "execution_count": 0,
      "outputs": []
    },
    {
      "cell_type": "code",
      "metadata": {
        "colab_type": "code",
        "id": "Yn3IwqhiIszt",
        "colab": {}
      },
      "source": [
        "def random_crop(input_image, real_image):\n",
        "  stacked_image = tf.stack([input_image, real_image], axis=0)\n",
        "  cropped_image = tf.image.random_crop(\n",
        "      stacked_image, size=[2, IMG_HEIGHT, IMG_WIDTH, 3])\n",
        "\n",
        "  return cropped_image[0], cropped_image[1]"
      ],
      "execution_count": 0,
      "outputs": []
    },
    {
      "cell_type": "code",
      "metadata": {
        "colab_type": "code",
        "id": "muhR2cgbLKWW",
        "colab": {}
      },
      "source": [
        "\n",
        "\n",
        "def normalize(input_image, real_image):\n",
        "  input_image = (input_image / 127.5) - 1\n",
        "  real_image = (real_image / 127.5) - 1\n",
        "\n",
        "  return input_image, real_image"
      ],
      "execution_count": 0,
      "outputs": []
    },
    {
      "cell_type": "code",
      "metadata": {
        "colab_type": "code",
        "id": "fVQOjcPVLrUc",
        "colab": {}
      },
      "source": [
        "@tf.function()\n",
        "def random_jitter(input_image, real_image):\n",
        "  \n",
        "  input_image, real_image = resize(input_image, real_image, 286, 286)\n",
        "\n",
        "  input_image, real_image = random_crop(input_image, real_image)\n",
        "\n",
        "  if tf.random.uniform(()) > 0.5:\n",
        "   \n",
        "    input_image = tf.image.flip_left_right(input_image)\n",
        "    real_image = tf.image.flip_left_right(real_image)\n",
        "\n",
        "  return input_image, real_image"
      ],
      "execution_count": 0,
      "outputs": []
    },
    {
      "cell_type": "code",
      "metadata": {
        "colab_type": "code",
        "id": "n0OGdi6D92kM",
        "colab": {}
      },
      "source": [
        "\n",
        "plt.figure(figsize=(6, 6))\n",
        "for i in range(4):\n",
        "  rj_inp, rj_re = random_jitter(inp, re)\n",
        "  plt.subplot(2, 2, i+1)\n",
        "  plt.imshow(rj_inp/255.0)\n",
        "  plt.axis('off')\n",
        "plt.show()"
      ],
      "execution_count": 0,
      "outputs": []
    },
    {
      "cell_type": "code",
      "metadata": {
        "colab_type": "code",
        "id": "tyaP4hLJ8b4W",
        "colab": {}
      },
      "source": [
        "def load_image_train(image_file):\n",
        "  input_image, real_image = load(image_file)\n",
        "  input_image, real_image = random_jitter(input_image, real_image)\n",
        "  input_image, real_image = normalize(input_image, real_image)\n",
        "\n",
        "  return input_image, real_image"
      ],
      "execution_count": 0,
      "outputs": []
    },
    {
      "cell_type": "code",
      "metadata": {
        "colab_type": "code",
        "id": "VB3Z6D_zKSru",
        "colab": {}
      },
      "source": [
        "def load_image_test(image_file):\n",
        "  input_image, real_image = load(image_file)\n",
        "  input_image, real_image = resize(input_image, real_image,\n",
        "                                   IMG_HEIGHT, IMG_WIDTH)\n",
        "  input_image, real_image = normalize(input_image, real_image)\n",
        "\n",
        "  return input_image, real_image"
      ],
      "execution_count": 0,
      "outputs": []
    },
    {
      "cell_type": "code",
      "metadata": {
        "colab_type": "code",
        "id": "SQHmYSmk8b4b",
        "colab": {}
      },
      "source": [
        "train_dataset = tf.data.Dataset.list_files(\"/content/images/combined/*.jpg\")\n",
        "train_dataset = train_dataset.map(load_image_train,\n",
        "                                  num_parallel_calls=tf.data.experimental.AUTOTUNE)\n",
        "train_dataset = train_dataset.cache().shuffle(BUFFER_SIZE)\n",
        "train_dataset = train_dataset.batch(1)"
      ],
      "execution_count": 0,
      "outputs": []
    },
    {
      "cell_type": "code",
      "metadata": {
        "colab_type": "code",
        "id": "MS9J0yA58b4g",
        "colab": {}
      },
      "source": [
        "test_dataset = tf.data.Dataset.list_files(\"/content/images/combinedval/*.jpg\")\n",
        "test_dataset = test_dataset.map(load_image_test)\n",
        "test_dataset = test_dataset.batch(1)"
      ],
      "execution_count": 0,
      "outputs": []
    },
    {
      "cell_type": "code",
      "metadata": {
        "colab_type": "code",
        "id": "tqqvWxlw8b4l",
        "colab": {}
      },
      "source": [
        "OUTPUT_CHANNELS = 3"
      ],
      "execution_count": 0,
      "outputs": []
    },
    {
      "cell_type": "code",
      "metadata": {
        "colab_type": "code",
        "id": "3R09ATE_SH9P",
        "colab": {}
      },
      "source": [
        "def downsample(filters, size, apply_batchnorm=True):\n",
        "  initializer = tf.random_normal_initializer(0., 0.02)\n",
        "\n",
        "  result = tf.keras.Sequential()\n",
        "  result.add(\n",
        "      tf.keras.layers.Conv2D(filters, size, strides=2, padding='same',\n",
        "                             kernel_initializer=initializer, use_bias=False))\n",
        "\n",
        "  if apply_batchnorm:\n",
        "    result.add(tf.keras.layers.BatchNormalization())\n",
        "\n",
        "  result.add(tf.keras.layers.LeakyReLU())\n",
        "\n",
        "  return result"
      ],
      "execution_count": 0,
      "outputs": []
    },
    {
      "cell_type": "code",
      "metadata": {
        "colab_type": "code",
        "id": "a6_uCZCppTh7",
        "colab": {}
      },
      "source": [
        "down_model = downsample(3, 4)\n",
        "down_result = down_model(tf.expand_dims(inp, 0))\n",
        "print (down_result.shape)"
      ],
      "execution_count": 0,
      "outputs": []
    },
    {
      "cell_type": "code",
      "metadata": {
        "colab_type": "code",
        "id": "nhgDsHClSQzP",
        "colab": {}
      },
      "source": [
        "def upsample(filters, size, apply_dropout=False):\n",
        "  initializer = tf.random_normal_initializer(0., 0.02)\n",
        "\n",
        "  result = tf.keras.Sequential()\n",
        "  result.add(\n",
        "    tf.keras.layers.Conv2DTranspose(filters, size, strides=2,\n",
        "                                    padding='same',\n",
        "                                    kernel_initializer=initializer,\n",
        "                                    use_bias=False))\n",
        "\n",
        "  result.add(tf.keras.layers.BatchNormalization())\n",
        "\n",
        "  if apply_dropout:\n",
        "      result.add(tf.keras.layers.Dropout(0.5))\n",
        "\n",
        "  result.add(tf.keras.layers.ReLU())\n",
        "\n",
        "  return result"
      ],
      "execution_count": 0,
      "outputs": []
    },
    {
      "cell_type": "code",
      "metadata": {
        "colab_type": "code",
        "id": "mz-ahSdsq0Oc",
        "colab": {}
      },
      "source": [
        "up_model = upsample(3, 4)\n",
        "up_result = up_model(down_result)\n",
        "print (up_result.shape)"
      ],
      "execution_count": 0,
      "outputs": []
    },
    {
      "cell_type": "code",
      "metadata": {
        "colab_type": "code",
        "id": "lFPI4Nu-8b4q",
        "colab": {}
      },
      "source": [
        "def Generator():\n",
        "  down_stack = [\n",
        "    downsample(64, 4, apply_batchnorm=False), # (bs, 128, 128, 64)\n",
        "    downsample(128, 4), # (bs, 64, 64, 128)\n",
        "    downsample(256, 4), # (bs, 32, 32, 256)\n",
        "    downsample(512, 4), # (bs, 16, 16, 512)\n",
        "    downsample(512, 4), # (bs, 8, 8, 512)\n",
        "    downsample(512, 4), # (bs, 4, 4, 512)\n",
        "    downsample(512, 4), # (bs, 2, 2, 512)\n",
        "    downsample(512, 4), # (bs, 1, 1, 512)\n",
        "  ]\n",
        "\n",
        "  up_stack = [\n",
        "    upsample(512, 4, apply_dropout=True), # (bs, 2, 2, 1024)\n",
        "    upsample(512, 4, apply_dropout=True), # (bs, 4, 4, 1024)\n",
        "    upsample(512, 4, apply_dropout=True), # (bs, 8, 8, 1024)\n",
        "    upsample(512, 4), # (bs, 16, 16, 1024)\n",
        "    upsample(256, 4), # (bs, 32, 32, 512)\n",
        "    upsample(128, 4), # (bs, 64, 64, 256)\n",
        "    upsample(64, 4), # (bs, 128, 128, 128)\n",
        "  ]\n",
        "\n",
        "  initializer = tf.random_normal_initializer(0., 0.02)\n",
        "  last = tf.keras.layers.Conv2DTranspose(OUTPUT_CHANNELS, 4,\n",
        "                                         strides=2,\n",
        "                                         padding='same',\n",
        "                                         kernel_initializer=initializer,\n",
        "                                         activation='tanh') # (bs, 256, 256, 3)\n",
        "\n",
        "  concat = tf.keras.layers.Concatenate()\n",
        "\n",
        "  inputs = tf.keras.layers.Input(shape=[None,None,3])\n",
        "  x = inputs\n",
        "\n",
        "  # Downsampling through the model\n",
        "  skips = []\n",
        "  for down in down_stack:\n",
        "    x = down(x)\n",
        "    skips.append(x)\n",
        "\n",
        "  skips = reversed(skips[:-1])\n",
        "\n",
        "  # Upsampling and establishing the skip connections\n",
        "  for up, skip in zip(up_stack, skips):\n",
        "    x = up(x)\n",
        "    x = concat([x, skip])\n",
        "\n",
        "  x = last(x)\n",
        "\n",
        "  return tf.keras.Model(inputs=inputs, outputs=x)"
      ],
      "execution_count": 0,
      "outputs": []
    },
    {
      "cell_type": "code",
      "metadata": {
        "colab_type": "code",
        "id": "U1N1_obwtdQH",
        "outputId": "f7fda91e-b858-4b23-e77c-1a4ae916fc8a",
        "colab": {
          "base_uri": "https://localhost:8080/",
          "height": 306
        }
      },
      "source": [
        "generator = Generator()\n",
        "\n",
        "gen_output = generator(inp[tf.newaxis,...], training=False)\n",
        "plt.imshow(gen_output[0,...])"
      ],
      "execution_count": 0,
      "outputs": [
        {
          "output_type": "stream",
          "text": [
            "Clipping input data to the valid range for imshow with RGB data ([0..1] for floats or [0..255] for integers).\n"
          ],
          "name": "stderr"
        },
        {
          "output_type": "execute_result",
          "data": {
            "text/plain": [
              "<matplotlib.image.AxesImage at 0x7f3292c2e160>"
            ]
          },
          "metadata": {
            "tags": []
          },
          "execution_count": 20
        },
        {
          "output_type": "display_data",
          "data": {
            "image/png": "[encoded data removed]",
            "text/plain": [
              "<Figure size 432x288 with 1 Axes>"
            ]
          },
          "metadata": {
            "tags": []
          }
        }
      ]
    },
    {
      "cell_type": "code",
      "metadata": {
        "colab_type": "code",
        "id": "cyhxTuvJyIHV",
        "colab": {}
      },
      "source": [
        "LAMBDA = 100\n",
        "\n",
        "def Discriminator():\n",
        "  initializer = tf.random_normal_initializer(0., 0.02)\n",
        "\n",
        "  inp = tf.keras.layers.Input(shape=[None, None, 3], name='input_image')\n",
        "  tar = tf.keras.layers.Input(shape=[None, None, 3], name='target_image')\n",
        "\n",
        "  x = tf.keras.layers.concatenate([inp, tar]) # (bs, 256, 256, channels*2)\n",
        "\n",
        "  down1 = downsample(64, 4, False)(x) # (bs, 128, 128, 64)\n",
        "  down2 = downsample(128, 4)(down1) # (bs, 64, 64, 128)\n",
        "  down3 = downsample(256, 4)(down2) # (bs, 32, 32, 256)\n",
        "\n",
        "  zero_pad1 = tf.keras.layers.ZeroPadding2D()(down3) # (bs, 34, 34, 256)\n",
        "  conv = tf.keras.layers.Conv2D(512, 4, strides=1,\n",
        "                                kernel_initializer=initializer,\n",
        "                                use_bias=False)(zero_pad1) # (bs, 31, 31, 512)\n",
        "\n",
        "  batchnorm1 = tf.keras.layers.BatchNormalization()(conv)\n",
        "\n",
        "  leaky_relu = tf.keras.layers.LeakyReLU()(batchnorm1)\n",
        "\n",
        "  zero_pad2 = tf.keras.layers.ZeroPadding2D()(leaky_relu) # (bs, 33, 33, 512)\n",
        "\n",
        "  last = tf.keras.layers.Conv2D(1, 4, strides=1,\n",
        "                                kernel_initializer=initializer)(zero_pad2) # (bs, 30, 30, 1)\n",
        "\n",
        "  return tf.keras.Model(inputs=[inp, tar], outputs=last)\n",
        "\n",
        "\n",
        "\n",
        "discriminator = Discriminator()\n",
        "disc_out = discriminator([inp[tf.newaxis,...], gen_output], training=False)\n",
        "plt.imshow(disc_out[0,...,-1], vmin=-20, vmax=20, cmap='RdBu_r')\n",
        "plt.colorbar()"
      ],
      "execution_count": 0,
      "outputs": []
    },
    {
      "cell_type": "code",
      "metadata": {
        "colab_type": "code",
        "id": "Q1Xbz5OaLj5C",
        "colab": {}
      },
      "source": [
        "loss_object = tf.keras.losses.BinaryCrossentropy(from_logits=True)"
      ],
      "execution_count": 0,
      "outputs": []
    },
    {
      "cell_type": "code",
      "metadata": {
        "colab_type": "code",
        "id": "wkMNfBWlT-PV",
        "colab": {}
      },
      "source": [
        "def discriminator_loss(disc_real_output, disc_generated_output):\n",
        "  real_loss = loss_object(tf.ones_like(disc_real_output), disc_real_output)\n",
        "\n",
        "  generated_loss = loss_object(tf.zeros_like(disc_generated_output), disc_generated_output)\n",
        "\n",
        "  total_disc_loss = real_loss + generated_loss\n",
        "\n",
        "  return total_disc_loss"
      ],
      "execution_count": 0,
      "outputs": []
    },
    {
      "cell_type": "code",
      "metadata": {
        "colab_type": "code",
        "id": "90BIcCKcDMxz",
        "colab": {}
      },
      "source": [
        "def generator_loss(disc_generated_output, gen_output, target):\n",
        "  gan_loss = loss_object(tf.ones_like(disc_generated_output), disc_generated_output)\n",
        "\n",
        "  # mean absolute error\n",
        "  l1_loss = tf.reduce_mean(tf.abs(target - gen_output))\n",
        "\n",
        "  total_gen_loss = gan_loss + (LAMBDA * l1_loss)\n",
        "\n",
        "  return total_gen_loss"
      ],
      "execution_count": 0,
      "outputs": []
    },
    {
      "cell_type": "code",
      "metadata": {
        "colab_type": "code",
        "id": "iWCn_PVdEJZ7",
        "colab": {}
      },
      "source": [
        "generator_optimizer = tf.keras.optimizers.Adam(2e-4, beta_1=0.5)\n",
        "discriminator_optimizer = tf.keras.optimizers.Adam(2e-4, beta_1=0.5)"
      ],
      "execution_count": 0,
      "outputs": []
    },
    {
      "cell_type": "code",
      "metadata": {
        "colab_type": "code",
        "id": "WJnftd5sQsv6",
        "outputId": "1fa5411c-48df-4468-c7a3-3307922b1c04",
        "colab": {
          "base_uri": "https://localhost:8080/",
          "height": 35
        }
      },
      "source": [
        "!mkdir \"/content/drive/My Drive/draw_final_2\"\n",
        "checkpoint_dir = \"/content/drive/My Drive/draw_final_2\"\n",
        "checkpoint_prefix = os.path.join(checkpoint_dir, \"ckpt\")\n",
        "checkpoint = tf.train.Checkpoint(generator_optimizer=generator_optimizer,\n",
        "                                 discriminator_optimizer=discriminator_optimizer,\n",
        "                                 generator=generator,\n",
        "                                 discriminator=discriminator)"
      ],
      "execution_count": 0,
      "outputs": [
        {
          "output_type": "stream",
          "text": [
            "mkdir: cannot create directory ‘/content/drive/My Drive/draw_final_2’: File exists\n"
          ],
          "name": "stdout"
        }
      ]
    },
    {
      "cell_type": "code",
      "metadata": {
        "colab_type": "code",
        "id": "NS2GWywBbAWo",
        "colab": {}
      },
      "source": [
        "EPOCHS = 150\n",
        "#Para el training del modelo final fueron aplicadas varias etapas de Finetunning, si es la primera vez que entrena\n",
        "#son recomendables 150 epocas para obtener resultados semejantes"
      ],
      "execution_count": 0,
      "outputs": []
    },
    {
      "cell_type": "code",
      "metadata": {
        "colab_type": "code",
        "id": "RmdVsmvhPxyy",
        "colab": {}
      },
      "source": [
        "def generate_images(model, test_input, tar):\n",
        "\n",
        "  prediction = model(test_input, training=True)\n",
        "  plt.figure(figsize=(15,15))\n",
        "\n",
        "  display_list = [test_input[0], tar[0], prediction[0]]\n",
        "  title = ['Input Image', 'Ground Truth', 'Predicted Image']\n",
        "  \n",
        "  for i in range(3):\n",
        "    plt.subplot(1, 3, i+1)\n",
        "    plt.title(title[i])\n",
        "    # getting the pixel values between [0, 1] to plot it.\n",
        "    plt.imshow(display_list[i] * 0.5 + 0.5)\n",
        "    plt.axis('off')\n",
        "  plt.show()"
      ],
      "execution_count": 0,
      "outputs": []
    },
    {
      "cell_type": "code",
      "metadata": {
        "colab_type": "code",
        "id": "KBKUV2sKXDbY",
        "colab": {}
      },
      "source": [
        "@tf.function\n",
        "def train_step(input_image, target):\n",
        "  with tf.GradientTape() as gen_tape, tf.GradientTape() as disc_tape:\n",
        "    gen_output = generator(input_image, training=True)\n",
        "\n",
        "    disc_real_output = discriminator([input_image, target], training=True)\n",
        "    disc_generated_output = discriminator([input_image, gen_output], training=True)\n",
        "\n",
        "    gen_loss = generator_loss(disc_generated_output, gen_output, target)\n",
        "    disc_loss = discriminator_loss(disc_real_output, disc_generated_output)\n",
        "\n",
        "  generator_gradients = gen_tape.gradient(gen_loss,\n",
        "                                          generator.trainable_variables)\n",
        "  discriminator_gradients = disc_tape.gradient(disc_loss,\n",
        "                                               discriminator.trainable_variables)\n",
        "\n",
        "  generator_optimizer.apply_gradients(zip(generator_gradients,\n",
        "                                          generator.trainable_variables))\n",
        "  discriminator_optimizer.apply_gradients(zip(discriminator_gradients,\n",
        "                                              discriminator.trainable_variables))"
      ],
      "execution_count": 0,
      "outputs": []
    },
    {
      "cell_type": "code",
      "metadata": {
        "colab_type": "code",
        "id": "2M7LmLtGEMQJ",
        "colab": {}
      },
      "source": [
        "def fit(train_ds, epochs, test_ds):\n",
        "  for epoch in range(epochs):\n",
        "    start = time.time()\n",
        "\n",
        "    # Train\n",
        "    for input_image, target in train_ds:\n",
        "      train_step(input_image, target)\n",
        "\n",
        "    clear_output(wait=True)\n",
        "    # Test on the same image so that the progress of the model can be \n",
        "    # easily seen.\n",
        "    for example_input, example_target in test_ds.take(1):\n",
        "      generate_images(generator, example_input, example_target)\n",
        "\n",
        "    # saving (checkpoint) the model every 20 epochs\n",
        "    if (epoch + 1) % 20 == 0:\n",
        "      checkpoint.save(file_prefix = checkpoint_prefix)\n",
        "\n",
        "    print ('Time taken for epoch {} is {} sec\\n'.format(epoch + 1,\n",
        "                                                        time.time()-start))"
      ],
      "execution_count": 0,
      "outputs": []
    },
    {
      "cell_type": "code",
      "metadata": {
        "colab_type": "code",
        "id": "a1zZmKmvOH85",
        "colab": {}
      },
      "source": [
        "fit(train_dataset, EPOCHS, test_dataset)"
      ],
      "execution_count": 0,
      "outputs": []
    },
    {
      "cell_type": "code",
      "metadata": {
        "colab_type": "code",
        "id": "HSSm4kfvJiqv",
        "colab": {}
      },
      "source": [
        "!ls {checkpoint_dir}\n",
        "checkpoint_dir=\"/content/drive/My Drive/draw_final_2\""
      ],
      "execution_count": 0,
      "outputs": []
    },
    {
      "cell_type": "code",
      "metadata": {
        "colab_type": "code",
        "id": "4t4x69adQ5xb",
        "colab": {}
      },
      "source": [
        "\n",
        "\n",
        "checkpoint.restore(tf.train.latest_checkpoint(checkpoint_dir))\n"
      ],
      "execution_count": 0,
      "outputs": []
    },
    {
      "cell_type": "code",
      "metadata": {
        "id": "8uMR5Zt4uEdD",
        "colab_type": "code",
        "colab": {}
      },
      "source": [
        "from tensorflow import keras\n",
        "keras.models.save_model(generator,\"/content/drive/My Drive/train_draw/model.h5\")\n",
        "#generator=keras.models.load_model(\"/content/drive/My Drive/train_draw/model.h5\",compile=True)"
      ],
      "execution_count": 0,
      "outputs": []
    },
    {
      "cell_type": "markdown",
      "metadata": {
        "colab_type": "text",
        "id": "1RGysMU_BZhx"
      },
      "source": [
        "## Generate using test dataset"
      ]
    },
    {
      "cell_type": "code",
      "metadata": {
        "colab_type": "code",
        "id": "KUgSnmy2nqSP",
        "colab": {}
      },
      "source": [
        "# Run the trained model on the entire test dataset\n",
        "import time\n",
        "\n",
        "for inp, tar in test_dataset.take(30):\n",
        "  s=time.time()\n",
        "  generate_images(generator, inp, tar)\n",
        "  print(time.time()-s)  \n"
      ],
      "execution_count": 0,
      "outputs": []
    }
  ]
}